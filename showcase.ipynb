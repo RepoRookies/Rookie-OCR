{
 "cells": [
  {
   "cell_type": "markdown",
   "id": "fefa7dcc",
   "metadata": {},
   "source": [
    "# Computer Vision Project - Rookie OCR"
   ]
  },
  {
   "cell_type": "markdown",
   "id": "45644044",
   "metadata": {},
   "source": [
    "### Importing Common Libraries or Modules"
   ]
  },
  {
   "cell_type": "code",
   "execution_count": null,
   "id": "701bd486",
   "metadata": {
    "vscode": {
     "languageId": "plaintext"
    }
   },
   "outputs": [],
   "source": []
  }
 ],
 "metadata": {
  "language_info": {
   "name": "python"
  }
 },
 "nbformat": 4,
 "nbformat_minor": 5
}
